{
  "nbformat": 4,
  "nbformat_minor": 0,
  "metadata": {
    "colab": {
      "name": "Untitled5.ipynb",
      "provenance": [],
      "collapsed_sections": []
    },
    "kernelspec": {
      "name": "python3",
      "display_name": "Python 3"
    },
    "language_info": {
      "name": "python"
    }
  },
  "cells": [
    {
      "cell_type": "code",
      "metadata": {
        "id": "ULdTt9vNCvWo"
      },
      "source": [
        ""
      ],
      "execution_count": null,
      "outputs": []
    },
    {
      "cell_type": "markdown",
      "metadata": {
        "id": "YLTVDGCnC1yg"
      },
      "source": [
        "Write the python code for following stastical operations with and without library functions:\n",
        "Mean,median ,mode,standard deviation and varience."
      ]
    },
    {
      "cell_type": "code",
      "metadata": {
        "colab": {
          "base_uri": "https://localhost:8080/"
        },
        "id": "Oisls7MTDKzm",
        "outputId": "9f588504-cdba-4448-f1ca-4139dd2c1db2"
      },
      "source": [
        "n_num = [1, 2, 3, 4, 5]\n",
        "n = len(n_num)\n",
        "  \n",
        "get_sum = sum(n_num)\n",
        "mean = get_sum / n\n",
        "  \n",
        "print(\"Mean  is: \" + str(mean))"
      ],
      "execution_count": 1,
      "outputs": [
        {
          "output_type": "stream",
          "name": "stdout",
          "text": [
            "Mean  is: 3.0\n"
          ]
        }
      ]
    },
    {
      "cell_type": "markdown",
      "metadata": {
        "id": "YZlsi2dZEZK8"
      },
      "source": [
        "median\n"
      ]
    },
    {
      "cell_type": "code",
      "metadata": {
        "colab": {
          "base_uri": "https://localhost:8080/"
        },
        "id": "2y_YA3I2EcJ0",
        "outputId": "b8a4ff11-2c0d-4dad-a50f-efc581a003f4"
      },
      "source": [
        "n_num = [1, 2, 3, 4, 5]\n",
        "n = len(n_num)\n",
        "n_num.sort()\n",
        "  \n",
        "if n % 2 == 0:\n",
        "    median1 = n_num[n//2]\n",
        "    median2 = n_num[n//2 - 1]\n",
        "    median = (median1 + median2)/2\n",
        "else:\n",
        "    median = n_num[n//2]\n",
        "print(\"Median is: \" + str(median))"
      ],
      "execution_count": 2,
      "outputs": [
        {
          "output_type": "stream",
          "name": "stdout",
          "text": [
            "Median is: 3\n"
          ]
        }
      ]
    },
    {
      "cell_type": "markdown",
      "metadata": {
        "id": "j5qpPSlaEpaR"
      },
      "source": [
        "mode"
      ]
    },
    {
      "cell_type": "code",
      "metadata": {
        "colab": {
          "base_uri": "https://localhost:8080/"
        },
        "id": "_biSvcxyEqiQ",
        "outputId": "aedd4605-a5d8-4b7d-907d-458ac815c107"
      },
      "source": [
        "from collections import Counter\n",
        "n_num = [1, 2, 3, 4, 5, 5]\n",
        "n = len(n_num) \n",
        "data = Counter(n_num)\n",
        "get_mode = dict(data)\n",
        "mode = [k for k, v in get_mode.items() if v == max(list(data.values()))]  \n",
        "if len(mode) == n:\n",
        "    get_mode = \"No mode found\"\n",
        "else:\n",
        "    get_mode = \"Mode is / are: \" + ', '.join(map(str, mode))  \n",
        "print(get_mode)"
      ],
      "execution_count": 3,
      "outputs": [
        {
          "output_type": "stream",
          "name": "stdout",
          "text": [
            "Mode is / are: 5\n"
          ]
        }
      ]
    },
    {
      "cell_type": "markdown",
      "metadata": {
        "id": "A3XgMnamFxh9"
      },
      "source": [
        "std deviation"
      ]
    },
    {
      "cell_type": "markdown",
      "metadata": {
        "id": "rWxhg9L6F0GP"
      },
      "source": [
        "import math\n",
        "mean = sum(data) / n\n",
        "return sum((x - mean) ** 2 for x in data) / (n - ddof)\n",
        "def stdev(data):     var = variance(data)\n",
        "std_dev = math.sqrt(var)\n",
        "return std_dev"
      ]
    },
    {
      "cell_type": "code",
      "metadata": {
        "colab": {
          "base_uri": "https://localhost:8080/"
        },
        "id": "j1g5OYwCJVJa",
        "outputId": "f968fb41-d808-4bb3-9415-8beed2f80d30"
      },
      "source": [
        "import math\n",
        "def variance(data, ddof=0):\n",
        "   n = len(data)\n",
        "   mean = sum(data) / n\n",
        "   return sum((x - mean) ** 2 for x in data) /  (n - ddof) \n",
        "def stdev(data):\n",
        "   var = variance(data)\n",
        "   std_dev = math.sqrt(var)\n",
        "   return std_dev\n",
        "stdev([4, 8, 6, 5, 3, 2, 8, 9, 2, 5])  "
      ],
      "execution_count": 11,
      "outputs": [
        {
          "output_type": "execute_result",
          "data": {
            "text/plain": [
              "2.4"
            ]
          },
          "metadata": {},
          "execution_count": 11
        }
      ]
    },
    {
      "cell_type": "markdown",
      "metadata": {
        "id": "rYvKxe26HR47"
      },
      "source": [
        "varience"
      ]
    },
    {
      "cell_type": "code",
      "metadata": {
        "colab": {
          "base_uri": "https://localhost:8080/"
        },
        "id": "sU1WcwZuHTwJ",
        "outputId": "86e4c9b4-722b-41c7-873b-0b13d058095f"
      },
      "source": [
        "def variance(X):\n",
        "    mean = sum(X)/len(X)\n",
        "    tot = 0.0\n",
        "    for x in X:\n",
        "        tot = tot + (x - mean)**2\n",
        "    return tot/len(X) \n",
        "sample = [1, 2, 3, 4, 5] \n",
        "print(\"variance of the sample is: \", variance(sample))"
      ],
      "execution_count": 7,
      "outputs": [
        {
          "output_type": "stream",
          "name": "stdout",
          "text": [
            "variance of the sample is:  2.0\n"
          ]
        }
      ]
    },
    {
      "cell_type": "markdown",
      "metadata": {
        "id": "PG7CaFitDN8_"
      },
      "source": [
        ""
      ]
    }
  ]
}